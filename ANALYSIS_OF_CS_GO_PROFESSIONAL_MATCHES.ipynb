{
  "nbformat": 4,
  "nbformat_minor": 0,
  "metadata": {
    "colab": {
      "name": "ANALYSIS OF CS:GO PROFESSIONAL MATCHES",
      "provenance": [],
      "collapsed_sections": [
        "xEe0u-qFkzhy",
        "aA9u2nmEnWAh",
        "OEwGeptutDG0",
        "kXfDrGrItaih"
      ],
      "authorship_tag": "ABX9TyPrFKDB8jAGgQ+0E0k+vEnR",
      "include_colab_link": true
    },
    "kernelspec": {
      "name": "python3",
      "display_name": "Python 3"
    },
    "language_info": {
      "name": "python"
    }
  },
  "cells": [
    {
      "cell_type": "markdown",
      "metadata": {
        "id": "view-in-github",
        "colab_type": "text"
      },
      "source": [
        "<a href=\"https://colab.research.google.com/github/nathalianetto/ANALYSIS_OF_CS_GO_PROFESSIONAL_MATCHES/blob/main/ANALYSIS_OF_CS_GO_PROFESSIONAL_MATCHES.ipynb\" target=\"_parent\"><img src=\"https://colab.research.google.com/assets/colab-badge.svg\" alt=\"Open In Colab\"/></a>"
      ]
    },
    {
      "cell_type": "markdown",
      "metadata": {
        "id": "xEe0u-qFkzhy"
      },
      "source": [
        "## **ANALYSIS OF CS:GO PROFESSIONAL MATCHES**\n",
        "\n",
        "**Data source:** \n",
        "\n",
        "https://www.kaggle.com/mateusdmachado/csgo-professional-matches/code\n",
        "\n",
        "**About the game:**\n",
        "\n",
        "Counter-Strike is a FPS (First-Person Shooter) game in which two teams of 5 players face each other in a matchup. The game retains the same gameplay concepts since its first version, which include a Terrorist side (TR) that is tasked to plant a bomb and have it detonate, and a Counter-Terrorist side (CT) that is tasked to defuse the bomb or prevent it from being planted. Both teams can also win a round by eliminating all players on the opposing team before the bomb is planted.\n",
        "\n",
        "A standard game of Counter-Strike is a best of 30 rounds, the winning team being the first to win 16 rounds. The 30 rounds are played in two halves of 15 on each side of the map, with a round time limit of 1 minute 55 seconds, plus 40 seconds after the bomb is planted.\n",
        "\n",
        "In case both teams draw at the 30th round on 15x15, 6 more rounds are added-on, which constitutes overtime. The overtime ends if a team wins 4 out of 6 rounds. If both teams win 3 rounds in overtime, another overtime of 6 rounds is played, and the process might repeat indefinitely until one team wins it.\n",
        "\n",
        "There are 7 maps in the map pool that are available to be played competitively at any given time. Maps are removed and added frequently for updates and revamps, as to not make the game stale. Matches are normally played as a 'bo3' (Best of 3) maps, with less important matches played in a 'bo1' fashion and finals often played as 'bo5's.\n",
        "\n",
        "**About the data:**\n",
        "\n",
        "The dataset contains 19 columns with the result of 45773 maps plays, including:\n",
        "date, first team, second team, the map, rounds won by each team, rounds won by the first and second team on each side (CT or TR), which team started as CT, match id, championship id, rank of each team and final result of the match.\n",
        "\n"
      ]
    },
    {
      "cell_type": "code",
      "metadata": {
        "id": "KJzAkpgFWdIl"
      },
      "source": [
        "import pandas as pd\n",
        "import numpy as np\n",
        "import seaborn as sns\n",
        "import datetime as dt\n",
        "import scipy as sp\n",
        "from matplotlib import pyplot as plt"
      ],
      "execution_count": null,
      "outputs": []
    },
    {
      "cell_type": "code",
      "metadata": {
        "id": "tjyVNKmeWrIC"
      },
      "source": [
        "results = pd.read_csv('results.csv', sep = ',', encoding = 'utf-8')"
      ],
      "execution_count": null,
      "outputs": []
    },
    {
      "cell_type": "code",
      "metadata": {
        "colab": {
          "base_uri": "https://localhost:8080/",
          "height": 419
        },
        "id": "oBCPbxwyo7gi",
        "outputId": "373d6c53-3f18-456b-d73a-258e8016ed4a"
      },
      "source": [
        "results"
      ],
      "execution_count": null,
      "outputs": [
        {
          "output_type": "execute_result",
          "data": {
            "text/html": [
              "<div>\n",
              "<style scoped>\n",
              "    .dataframe tbody tr th:only-of-type {\n",
              "        vertical-align: middle;\n",
              "    }\n",
              "\n",
              "    .dataframe tbody tr th {\n",
              "        vertical-align: top;\n",
              "    }\n",
              "\n",
              "    .dataframe thead th {\n",
              "        text-align: right;\n",
              "    }\n",
              "</style>\n",
              "<table border=\"1\" class=\"dataframe\">\n",
              "  <thead>\n",
              "    <tr style=\"text-align: right;\">\n",
              "      <th></th>\n",
              "      <th>date</th>\n",
              "      <th>team_1</th>\n",
              "      <th>team_2</th>\n",
              "      <th>_map</th>\n",
              "      <th>result_1</th>\n",
              "      <th>result_2</th>\n",
              "      <th>map_winner</th>\n",
              "      <th>starting_ct</th>\n",
              "      <th>ct_1</th>\n",
              "      <th>t_2</th>\n",
              "      <th>t_1</th>\n",
              "      <th>ct_2</th>\n",
              "      <th>event_id</th>\n",
              "      <th>match_id</th>\n",
              "      <th>rank_1</th>\n",
              "      <th>rank_2</th>\n",
              "      <th>map_wins_1</th>\n",
              "      <th>map_wins_2</th>\n",
              "      <th>match_winner</th>\n",
              "    </tr>\n",
              "  </thead>\n",
              "  <tbody>\n",
              "    <tr>\n",
              "      <th>0</th>\n",
              "      <td>2020-03-18</td>\n",
              "      <td>Recon 5</td>\n",
              "      <td>TeamOne</td>\n",
              "      <td>Dust2</td>\n",
              "      <td>0</td>\n",
              "      <td>16</td>\n",
              "      <td>2</td>\n",
              "      <td>2</td>\n",
              "      <td>0</td>\n",
              "      <td>1</td>\n",
              "      <td>0</td>\n",
              "      <td>15</td>\n",
              "      <td>5151</td>\n",
              "      <td>2340454</td>\n",
              "      <td>62</td>\n",
              "      <td>63</td>\n",
              "      <td>0</td>\n",
              "      <td>2</td>\n",
              "      <td>2</td>\n",
              "    </tr>\n",
              "    <tr>\n",
              "      <th>1</th>\n",
              "      <td>2020-03-18</td>\n",
              "      <td>Recon 5</td>\n",
              "      <td>TeamOne</td>\n",
              "      <td>Inferno</td>\n",
              "      <td>13</td>\n",
              "      <td>16</td>\n",
              "      <td>2</td>\n",
              "      <td>2</td>\n",
              "      <td>8</td>\n",
              "      <td>6</td>\n",
              "      <td>5</td>\n",
              "      <td>10</td>\n",
              "      <td>5151</td>\n",
              "      <td>2340454</td>\n",
              "      <td>62</td>\n",
              "      <td>63</td>\n",
              "      <td>0</td>\n",
              "      <td>2</td>\n",
              "      <td>2</td>\n",
              "    </tr>\n",
              "    <tr>\n",
              "      <th>2</th>\n",
              "      <td>2020-03-18</td>\n",
              "      <td>New England Whalers</td>\n",
              "      <td>Station7</td>\n",
              "      <td>Inferno</td>\n",
              "      <td>12</td>\n",
              "      <td>16</td>\n",
              "      <td>2</td>\n",
              "      <td>1</td>\n",
              "      <td>9</td>\n",
              "      <td>6</td>\n",
              "      <td>3</td>\n",
              "      <td>10</td>\n",
              "      <td>5243</td>\n",
              "      <td>2340461</td>\n",
              "      <td>140</td>\n",
              "      <td>118</td>\n",
              "      <td>12</td>\n",
              "      <td>16</td>\n",
              "      <td>2</td>\n",
              "    </tr>\n",
              "    <tr>\n",
              "      <th>3</th>\n",
              "      <td>2020-03-18</td>\n",
              "      <td>Rugratz</td>\n",
              "      <td>Bad News Bears</td>\n",
              "      <td>Inferno</td>\n",
              "      <td>7</td>\n",
              "      <td>16</td>\n",
              "      <td>2</td>\n",
              "      <td>2</td>\n",
              "      <td>0</td>\n",
              "      <td>8</td>\n",
              "      <td>7</td>\n",
              "      <td>8</td>\n",
              "      <td>5151</td>\n",
              "      <td>2340453</td>\n",
              "      <td>61</td>\n",
              "      <td>38</td>\n",
              "      <td>0</td>\n",
              "      <td>2</td>\n",
              "      <td>2</td>\n",
              "    </tr>\n",
              "    <tr>\n",
              "      <th>4</th>\n",
              "      <td>2020-03-18</td>\n",
              "      <td>Rugratz</td>\n",
              "      <td>Bad News Bears</td>\n",
              "      <td>Vertigo</td>\n",
              "      <td>8</td>\n",
              "      <td>16</td>\n",
              "      <td>2</td>\n",
              "      <td>2</td>\n",
              "      <td>4</td>\n",
              "      <td>5</td>\n",
              "      <td>4</td>\n",
              "      <td>11</td>\n",
              "      <td>5151</td>\n",
              "      <td>2340453</td>\n",
              "      <td>61</td>\n",
              "      <td>38</td>\n",
              "      <td>0</td>\n",
              "      <td>2</td>\n",
              "      <td>2</td>\n",
              "    </tr>\n",
              "    <tr>\n",
              "      <th>...</th>\n",
              "      <td>...</td>\n",
              "      <td>...</td>\n",
              "      <td>...</td>\n",
              "      <td>...</td>\n",
              "      <td>...</td>\n",
              "      <td>...</td>\n",
              "      <td>...</td>\n",
              "      <td>...</td>\n",
              "      <td>...</td>\n",
              "      <td>...</td>\n",
              "      <td>...</td>\n",
              "      <td>...</td>\n",
              "      <td>...</td>\n",
              "      <td>...</td>\n",
              "      <td>...</td>\n",
              "      <td>...</td>\n",
              "      <td>...</td>\n",
              "      <td>...</td>\n",
              "      <td>...</td>\n",
              "    </tr>\n",
              "    <tr>\n",
              "      <th>45768</th>\n",
              "      <td>2015-11-05</td>\n",
              "      <td>G2</td>\n",
              "      <td>E-frag.net</td>\n",
              "      <td>Inferno</td>\n",
              "      <td>13</td>\n",
              "      <td>16</td>\n",
              "      <td>2</td>\n",
              "      <td>1</td>\n",
              "      <td>8</td>\n",
              "      <td>7</td>\n",
              "      <td>5</td>\n",
              "      <td>9</td>\n",
              "      <td>1970</td>\n",
              "      <td>2299059</td>\n",
              "      <td>7</td>\n",
              "      <td>16</td>\n",
              "      <td>1</td>\n",
              "      <td>2</td>\n",
              "      <td>2</td>\n",
              "    </tr>\n",
              "    <tr>\n",
              "      <th>45769</th>\n",
              "      <td>2015-11-05</td>\n",
              "      <td>G2</td>\n",
              "      <td>E-frag.net</td>\n",
              "      <td>Dust2</td>\n",
              "      <td>16</td>\n",
              "      <td>13</td>\n",
              "      <td>1</td>\n",
              "      <td>1</td>\n",
              "      <td>10</td>\n",
              "      <td>5</td>\n",
              "      <td>6</td>\n",
              "      <td>8</td>\n",
              "      <td>1970</td>\n",
              "      <td>2299059</td>\n",
              "      <td>7</td>\n",
              "      <td>16</td>\n",
              "      <td>1</td>\n",
              "      <td>2</td>\n",
              "      <td>2</td>\n",
              "    </tr>\n",
              "    <tr>\n",
              "      <th>45770</th>\n",
              "      <td>2015-11-04</td>\n",
              "      <td>CLG</td>\n",
              "      <td>Liquid</td>\n",
              "      <td>Inferno</td>\n",
              "      <td>16</td>\n",
              "      <td>12</td>\n",
              "      <td>1</td>\n",
              "      <td>1</td>\n",
              "      <td>7</td>\n",
              "      <td>8</td>\n",
              "      <td>9</td>\n",
              "      <td>4</td>\n",
              "      <td>1934</td>\n",
              "      <td>2299011</td>\n",
              "      <td>10</td>\n",
              "      <td>14</td>\n",
              "      <td>16</td>\n",
              "      <td>12</td>\n",
              "      <td>1</td>\n",
              "    </tr>\n",
              "    <tr>\n",
              "      <th>45771</th>\n",
              "      <td>2015-11-03</td>\n",
              "      <td>NiP</td>\n",
              "      <td>Dignitas</td>\n",
              "      <td>Train</td>\n",
              "      <td>16</td>\n",
              "      <td>4</td>\n",
              "      <td>1</td>\n",
              "      <td>2</td>\n",
              "      <td>4</td>\n",
              "      <td>1</td>\n",
              "      <td>12</td>\n",
              "      <td>3</td>\n",
              "      <td>1934</td>\n",
              "      <td>2299001</td>\n",
              "      <td>6</td>\n",
              "      <td>12</td>\n",
              "      <td>16</td>\n",
              "      <td>4</td>\n",
              "      <td>1</td>\n",
              "    </tr>\n",
              "    <tr>\n",
              "      <th>45772</th>\n",
              "      <td>2015-11-03</td>\n",
              "      <td>NiP</td>\n",
              "      <td>Envy</td>\n",
              "      <td>Cobblestone</td>\n",
              "      <td>16</td>\n",
              "      <td>9</td>\n",
              "      <td>1</td>\n",
              "      <td>2</td>\n",
              "      <td>4</td>\n",
              "      <td>6</td>\n",
              "      <td>12</td>\n",
              "      <td>3</td>\n",
              "      <td>1934</td>\n",
              "      <td>2299003</td>\n",
              "      <td>6</td>\n",
              "      <td>1</td>\n",
              "      <td>16</td>\n",
              "      <td>9</td>\n",
              "      <td>1</td>\n",
              "    </tr>\n",
              "  </tbody>\n",
              "</table>\n",
              "<p>45773 rows × 19 columns</p>\n",
              "</div>"
            ],
            "text/plain": [
              "             date               team_1  ... map_wins_2 match_winner\n",
              "0      2020-03-18              Recon 5  ...          2            2\n",
              "1      2020-03-18              Recon 5  ...          2            2\n",
              "2      2020-03-18  New England Whalers  ...         16            2\n",
              "3      2020-03-18              Rugratz  ...          2            2\n",
              "4      2020-03-18              Rugratz  ...          2            2\n",
              "...           ...                  ...  ...        ...          ...\n",
              "45768  2015-11-05                   G2  ...          2            2\n",
              "45769  2015-11-05                   G2  ...          2            2\n",
              "45770  2015-11-04                  CLG  ...         12            1\n",
              "45771  2015-11-03                  NiP  ...          4            1\n",
              "45772  2015-11-03                  NiP  ...          9            1\n",
              "\n",
              "[45773 rows x 19 columns]"
            ]
          },
          "metadata": {
            "tags": []
          },
          "execution_count": 28
        }
      ]
    },
    {
      "cell_type": "code",
      "metadata": {
        "id": "D3CtzFWlsjYC"
      },
      "source": [
        "results['date'] = pd.to_datetime(results['date'], format=\"%Y-%m-%d\")\n",
        "results['month_year'] = results['date'].dt.to_period('M')"
      ],
      "execution_count": null,
      "outputs": []
    },
    {
      "cell_type": "markdown",
      "metadata": {
        "id": "aA9u2nmEnWAh"
      },
      "source": [
        "# Amount of matches over time\n"
      ]
    },
    {
      "cell_type": "code",
      "metadata": {
        "colab": {
          "base_uri": "https://localhost:8080/",
          "height": 665
        },
        "id": "9nAeEzftW8-c",
        "outputId": "87ca42a8-40d9-4b6e-af78-de19d85381bd"
      },
      "source": [
        "date = results[['month_year', 'date']].groupby(['month_year']).count().rename(columns={'date': 'qnt'})\n",
        "date.sort_values(by='month_year',ascending=True,inplace=True)\n",
        "date.index = date.index.astype(str)\n",
        "plt.figure(figsize=[20,10])\n",
        "plt.xticks(rotation=45)\n",
        "lineplot = sns.lineplot(data=date, x=\"month_year\", y=\"qnt\")\n",
        "lineplot.set_xlabel(\"Period\")\n",
        "lineplot.set_ylabel(\"Amount\")\n",
        "lineplot.set_title(\"AMOUNT OF MATCHES OVER TIME\")"
      ],
      "execution_count": null,
      "outputs": [
        {
          "output_type": "execute_result",
          "data": {
            "text/plain": [
              "Text(0.5, 1.0, 'AMOUNT OF MATCHES OVER TIME')"
            ]
          },
          "metadata": {
            "tags": []
          },
          "execution_count": 30
        },
        {
          "output_type": "display_data",
          "data": {
            "image/png": "[encoded data removed]",
            "text/plain": [
              "<Figure size 1440x720 with 1 Axes>"
            ]
          },
          "metadata": {
            "tags": [],
            "needs_background": "light"
          }
        }
      ]
    },
    {
      "cell_type": "markdown",
      "metadata": {
        "id": "iMjdSMQ13qNL"
      },
      "source": [
        "The period covered by the dataset records is from November 2015 to March 2020. In this period it is possible to note that as a standard there is a drop in the number of matches at the end of each year and a tendency to decrease the number of matches at the end of each semester, showing that the championship seasons are semiannual."
      ]
    },
    {
      "cell_type": "markdown",
      "metadata": {
        "id": "OEwGeptutDG0"
      },
      "source": [
        "# Most played maps"
      ]
    },
    {
      "cell_type": "code",
      "metadata": {
        "colab": {
          "base_uri": "https://localhost:8080/",
          "height": 679
        },
        "id": "D8QL77Eij3ph",
        "outputId": "88acbc8c-68b8-4ac9-9df2-9b373813ddc1"
      },
      "source": [
        "maps = results[['_map']][results['_map']!=\"Default\"]\n",
        "maps.reset_index(drop=True, inplace=True)\n",
        "maps['qnt'] = maps['_map']\n",
        "maps = maps.groupby(maps['_map']).count()\n",
        "maps.sort_values('qnt').index\n",
        "plt.figure(figsize=[20,10])\n",
        "plt.xticks(rotation=45)\n",
        "barplot1 = sns.barplot(data=maps, x=maps.index, y=\"qnt\", palette={'Inferno': '#016FB9', 'Mirage': '#FCCA46', 'Train': '#201E1F', 'Overpass': '#966B9D', 'Dust2': '#D95D39', 'Nuke': '#ffa3bc', 'Vertigo': '#50B2C0', 'Cache': '#5BBA6F', 'Cobblestone': '#8AA29E'}, order=maps.sort_values('qnt', ascending=False).index)\n",
        "barplot1.set_xlabel(\"Map\")\n",
        "barplot1.set_ylabel(\"Amount\")\n",
        "barplot1.set_title(\"MOST PLAYED MAPS\")"
      ],
      "execution_count": null,
      "outputs": [
        {
          "output_type": "execute_result",
          "data": {
            "text/plain": [
              "Text(0.5, 1.0, 'MOST PLAYED MAPS')"
            ]
          },
          "metadata": {
            "tags": []
          },
          "execution_count": 31
        },
        {
          "output_type": "display_data",
          "data": {
            "image/png": "[encoded data removed]",
            "text/plain": [
              "<Figure size 1440x720 with 1 Axes>"
            ]
          },
          "metadata": {
            "tags": [],
            "needs_background": "light"
          }
        }
      ]
    },
    {
      "cell_type": "markdown",
      "metadata": {
        "id": "h345zLfxtTOr"
      },
      "source": [
        "## Most played maps in the active map pool"
      ]
    },
    {
      "cell_type": "code",
      "metadata": {
        "colab": {
          "base_uri": "https://localhost:8080/",
          "height": 703
        },
        "id": "2BJYdojtYQBN",
        "outputId": "b7de0544-0133-4822-d892-87a95f13d8f9"
      },
      "source": [
        "maps2 = results[['_map']][results['_map']!=\"Default\"][results['date'] > '2019-07-31']\n",
        "maps2.reset_index(drop=True, inplace=True)\n",
        "maps2['qnt'] = maps2['_map']\n",
        "maps2 = maps2.groupby(maps2['_map']).count()\n",
        "maps2.sort_values('qnt').index\n",
        "plt.figure(figsize=[20,10])\n",
        "plt.xticks(rotation=45)\n",
        "barplot2 = sns.barplot(data=maps2, x=maps2.index, y=\"qnt\", palette={'Inferno': '#016FB9', 'Mirage': '#FCCA46', 'Train': '#201E1F', 'Overpass': '#966B9D', 'Dust2': '#D95D39', 'Nuke': '#ffa3bc', 'Vertigo': '#50B2C0', 'Cache': '#5BBA6F', 'Cobblestone': '#8AA29E'}, order=maps2.sort_values('qnt', ascending=False).index)\n",
        "barplot2.set_xlabel(\"Map\")\n",
        "barplot2.set_ylabel(\"Amount\")\n",
        "barplot2.set_title(\"MOST PLAYED MAPS SINCE AUGUST 2019\")"
      ],
      "execution_count": null,
      "outputs": [
        {
          "output_type": "stream",
          "text": [
            "/usr/local/lib/python3.7/dist-packages/ipykernel_launcher.py:1: UserWarning: Boolean Series key will be reindexed to match DataFrame index.\n",
            "  \"\"\"Entry point for launching an IPython kernel.\n"
          ],
          "name": "stderr"
        },
        {
          "output_type": "execute_result",
          "data": {
            "text/plain": [
              "Text(0.5, 1.0, 'MOST PLAYED MAPS SINCE AUGUST 2019')"
            ]
          },
          "metadata": {
            "tags": []
          },
          "execution_count": 32
        },
        {
          "output_type": "display_data",
          "data": {
            "image/png": "[encoded data removed]",
            "text/plain": [
              "<Figure size 1440x720 with 1 Axes>"
            ]
          },
          "metadata": {
            "tags": [],
            "needs_background": "light"
          }
        }
      ]
    },
    {
      "cell_type": "markdown",
      "metadata": {
        "id": "3O_-kGKRYOtv"
      },
      "source": [
        "From the analysis of all time matches in the dataset, we have the statitics of all maps that have been ever present in the map pool of the competitive mode of CS:GO. But, as explained before, this map pool always has only 7 maps, and when some are removed, others are added. Since 2015 only Mirage and Overpass appear in all major championships, without ever having been removed for updating (access: https://liquipedia.net/counterstrike/Portal:Maps for more details of the maps formation in the competitive CS:GO mode). The analysis is then biased by the time that a map was avaliable in the competitive mode of CS:GO, so a new analysis was made with a more recent period selected, in which only the 7 maps currently active in the map pool appear, which are Inferno, Mirage, Overpass, Nuke, Train, Dust2 and Vertigo. This formation is evident in the barplot only when analyzed from August 2019, when Cache was completely removed from the map pool so Vertigo was added.\n",
        "\n",
        "Finally, this analysis shows that in the most recent scenario of the maps played in the championships, Inferno wins the 'first position', which in the all time analysis belongs to Mirage, as well as Train and Overpass lose some of their popularity among the teams, to Dust2 and Nuke. This is most likely because Inferno, Nuke and Dust2 have had periods outside the pool map since 2015, while Train, Mirage and Overpass have not been removed at any time during this period. And since Vertigo is the most recently added map on CS:GO, it is still unpopular, so it occupies the 'last position'."
      ]
    },
    {
      "cell_type": "markdown",
      "metadata": {
        "id": "4BOP4Ts3sQWx"
      },
      "source": [
        "# Analysis of the map sides advantage on each map"
      ]
    },
    {
      "cell_type": "markdown",
      "metadata": {
        "id": "87osnyOX495Q"
      },
      "source": [
        "## Avarege number of rounds per map side"
      ]
    },
    {
      "cell_type": "code",
      "metadata": {
        "colab": {
          "base_uri": "https://localhost:8080/",
          "height": 359
        },
        "id": "l_dBKc3Hjxwu",
        "outputId": "d5a73f9b-ee71-4d9d-f066-27a64ece8046"
      },
      "source": [
        "ct_tr1 = results[['_map', 'ct_1', 't_1']][results['_map']!=\"Default\"].rename(columns={'ct_1': 'ct', 't_1': 'tr', '_map': 'map'})\n",
        "ct_tr2 = results[['_map', 'ct_2', 't_2']][results['_map']!=\"Default\"].rename(columns={'ct_2': 'ct', 't_2': 'tr', '_map': 'map'})\n",
        "ct_tr = pd.concat([ct_tr1, ct_tr2], ignore_index=True)\n",
        "\n",
        "ct_tr.groupby(ct_tr['map']).agg('mean')"
      ],
      "execution_count": null,
      "outputs": [
        {
          "output_type": "execute_result",
          "data": {
            "text/html": [
              "<div>\n",
              "<style scoped>\n",
              "    .dataframe tbody tr th:only-of-type {\n",
              "        vertical-align: middle;\n",
              "    }\n",
              "\n",
              "    .dataframe tbody tr th {\n",
              "        vertical-align: top;\n",
              "    }\n",
              "\n",
              "    .dataframe thead th {\n",
              "        text-align: right;\n",
              "    }\n",
              "</style>\n",
              "<table border=\"1\" class=\"dataframe\">\n",
              "  <thead>\n",
              "    <tr style=\"text-align: right;\">\n",
              "      <th></th>\n",
              "      <th>ct</th>\n",
              "      <th>tr</th>\n",
              "    </tr>\n",
              "    <tr>\n",
              "      <th>map</th>\n",
              "      <th></th>\n",
              "      <th></th>\n",
              "    </tr>\n",
              "  </thead>\n",
              "  <tbody>\n",
              "    <tr>\n",
              "      <th>Cache</th>\n",
              "      <td>6.031541</td>\n",
              "      <td>6.693041</td>\n",
              "    </tr>\n",
              "    <tr>\n",
              "      <th>Cobblestone</th>\n",
              "      <td>6.175633</td>\n",
              "      <td>6.452035</td>\n",
              "    </tr>\n",
              "    <tr>\n",
              "      <th>Dust2</th>\n",
              "      <td>6.186072</td>\n",
              "      <td>6.586655</td>\n",
              "    </tr>\n",
              "    <tr>\n",
              "      <th>Inferno</th>\n",
              "      <td>6.243487</td>\n",
              "      <td>6.470407</td>\n",
              "    </tr>\n",
              "    <tr>\n",
              "      <th>Mirage</th>\n",
              "      <td>6.614233</td>\n",
              "      <td>6.152644</td>\n",
              "    </tr>\n",
              "    <tr>\n",
              "      <th>Nuke</th>\n",
              "      <td>6.961602</td>\n",
              "      <td>5.718260</td>\n",
              "    </tr>\n",
              "    <tr>\n",
              "      <th>Overpass</th>\n",
              "      <td>6.711822</td>\n",
              "      <td>5.988089</td>\n",
              "    </tr>\n",
              "    <tr>\n",
              "      <th>Train</th>\n",
              "      <td>6.864682</td>\n",
              "      <td>5.794624</td>\n",
              "    </tr>\n",
              "    <tr>\n",
              "      <th>Vertigo</th>\n",
              "      <td>6.206076</td>\n",
              "      <td>6.674877</td>\n",
              "    </tr>\n",
              "  </tbody>\n",
              "</table>\n",
              "</div>"
            ],
            "text/plain": [
              "                   ct        tr\n",
              "map                            \n",
              "Cache        6.031541  6.693041\n",
              "Cobblestone  6.175633  6.452035\n",
              "Dust2        6.186072  6.586655\n",
              "Inferno      6.243487  6.470407\n",
              "Mirage       6.614233  6.152644\n",
              "Nuke         6.961602  5.718260\n",
              "Overpass     6.711822  5.988089\n",
              "Train        6.864682  5.794624\n",
              "Vertigo      6.206076  6.674877"
            ]
          },
          "metadata": {
            "tags": []
          },
          "execution_count": 33
        }
      ]
    },
    {
      "cell_type": "markdown",
      "metadata": {
        "id": "dR6onJn55PBX"
      },
      "source": [
        "## Proportion of the total rounds won in each map side"
      ]
    },
    {
      "cell_type": "code",
      "metadata": {
        "colab": {
          "base_uri": "https://localhost:8080/",
          "height": 359
        },
        "id": "fvmDfXAJ5iNn",
        "outputId": "71739c33-2c74-4c95-e1d6-cf5e77bd8b50"
      },
      "source": [
        "ct_tr.groupby(ct_tr['map']).agg('sum').apply(lambda x: x/x.sum()*100, axis=1)"
      ],
      "execution_count": null,
      "outputs": [
        {
          "output_type": "execute_result",
          "data": {
            "text/html": [
              "<div>\n",
              "<style scoped>\n",
              "    .dataframe tbody tr th:only-of-type {\n",
              "        vertical-align: middle;\n",
              "    }\n",
              "\n",
              "    .dataframe tbody tr th {\n",
              "        vertical-align: top;\n",
              "    }\n",
              "\n",
              "    .dataframe thead th {\n",
              "        text-align: right;\n",
              "    }\n",
              "</style>\n",
              "<table border=\"1\" class=\"dataframe\">\n",
              "  <thead>\n",
              "    <tr style=\"text-align: right;\">\n",
              "      <th></th>\n",
              "      <th>ct</th>\n",
              "      <th>tr</th>\n",
              "    </tr>\n",
              "    <tr>\n",
              "      <th>map</th>\n",
              "      <th></th>\n",
              "      <th></th>\n",
              "    </tr>\n",
              "  </thead>\n",
              "  <tbody>\n",
              "    <tr>\n",
              "      <th>Cache</th>\n",
              "      <td>47.400700</td>\n",
              "      <td>52.599300</td>\n",
              "    </tr>\n",
              "    <tr>\n",
              "      <th>Cobblestone</th>\n",
              "      <td>48.905570</td>\n",
              "      <td>51.094430</td>\n",
              "    </tr>\n",
              "    <tr>\n",
              "      <th>Dust2</th>\n",
              "      <td>48.431880</td>\n",
              "      <td>51.568120</td>\n",
              "    </tr>\n",
              "    <tr>\n",
              "      <th>Inferno</th>\n",
              "      <td>49.107589</td>\n",
              "      <td>50.892411</td>\n",
              "    </tr>\n",
              "    <tr>\n",
              "      <th>Mirage</th>\n",
              "      <td>51.807762</td>\n",
              "      <td>48.192238</td>\n",
              "    </tr>\n",
              "    <tr>\n",
              "      <th>Nuke</th>\n",
              "      <td>54.902825</td>\n",
              "      <td>45.097175</td>\n",
              "    </tr>\n",
              "    <tr>\n",
              "      <th>Overpass</th>\n",
              "      <td>52.849364</td>\n",
              "      <td>47.150636</td>\n",
              "    </tr>\n",
              "    <tr>\n",
              "      <th>Train</th>\n",
              "      <td>54.226369</td>\n",
              "      <td>45.773631</td>\n",
              "    </tr>\n",
              "    <tr>\n",
              "      <th>Vertigo</th>\n",
              "      <td>48.180254</td>\n",
              "      <td>51.819746</td>\n",
              "    </tr>\n",
              "  </tbody>\n",
              "</table>\n",
              "</div>"
            ],
            "text/plain": [
              "                    ct         tr\n",
              "map                              \n",
              "Cache        47.400700  52.599300\n",
              "Cobblestone  48.905570  51.094430\n",
              "Dust2        48.431880  51.568120\n",
              "Inferno      49.107589  50.892411\n",
              "Mirage       51.807762  48.192238\n",
              "Nuke         54.902825  45.097175\n",
              "Overpass     52.849364  47.150636\n",
              "Train        54.226369  45.773631\n",
              "Vertigo      48.180254  51.819746"
            ]
          },
          "metadata": {
            "tags": []
          },
          "execution_count": 34
        }
      ]
    },
    {
      "cell_type": "markdown",
      "metadata": {
        "id": "cIF_sdOz9EXd"
      },
      "source": [
        "Both analyses show that on Cache, Cobblestone, Dust2, Inferno and Vertigo there is a tendency to win more rounds on the TR side, while on Mirage, Overpass, Nuke and Train the tendency is to win more rounds as CT."
      ]
    },
    {
      "cell_type": "markdown",
      "metadata": {
        "id": "kXfDrGrItaih"
      },
      "source": [
        "## Analysis of the influence of starting the map as CT on map winning"
      ]
    },
    {
      "cell_type": "markdown",
      "metadata": {
        "id": "RIR_WwzRwMrE"
      },
      "source": [
        "This analysis is dedicated to understanding the influence of starting the map as CT on map winning. For that, Pearson's chi-squared test was performed on the data, separated by map, to check if there is a statistically significant difference between winning or losing, categorizing between starting CT ou starting TR for each map."
      ]
    },
    {
      "cell_type": "code",
      "metadata": {
        "colab": {
          "base_uri": "https://localhost:8080/",
          "height": 1000
        },
        "id": "sej3nuthbJs_",
        "outputId": "50bebba5-51a4-4f5e-c61c-e42fb6a7e3a0"
      },
      "source": [
        "map_ct = results[['_map', 'map_winner', 'starting_ct']][results['_map']!=\"Default\"]\n",
        "map_ct['map_winner'] = map_ct['map_winner'].astype(str)\n",
        "map_ct['starting_ct'] = map_ct['starting_ct'].astype(str)\n",
        "\n",
        "map_ct1 = map_ct[['_map','map_winner','starting_ct']]\n",
        "map_ct1['map_winner'] = map_ct1['map_winner'].str.replace('1', 'win').replace('2', 'lose')\n",
        "map_ct1['starting_ct'] = map_ct1['starting_ct'].str.replace('1', 'ct').replace('2', 'tr')\n",
        "\n",
        "map_ct2 = map_ct[['_map','map_winner','starting_ct']]\n",
        "map_ct2['map_winner'] = map_ct2['map_winner'].str.replace('1', 'lose').replace('2', 'win')\n",
        "map_ct2['starting_ct'] = map_ct2['starting_ct'].str.replace('1', 'tr').replace('2', 'ct')\n",
        "\n",
        "map_ct = pd.concat([map_ct1, map_ct2], ignore_index=True)\n",
        "\n",
        "map_list = map_ct['_map'].unique().tolist()\n",
        "\n",
        "for map in map_list:\n",
        "  map_filter = map_ct[['map_winner', 'starting_ct']][map_ct['_map']==map]\n",
        "  table = pd.crosstab(map_filter['map_winner'], map_filter['starting_ct'])\n",
        "  chi2 = sp.stats.chi2_contingency(table, correction=True)\n",
        "  table2 = pd.crosstab(map_filter['map_winner'], map_filter['starting_ct']).apply(lambda r: r/r.sum()*100, axis=1)\n",
        "  print(f\"{map}: {chi2[0:3]}\")\n",
        "  display(table, table2)\n",
        "  print(\"_________________________________________________________\")"
      ],
      "execution_count": null,
      "outputs": [
        {
          "output_type": "stream",
          "text": [
            "Dust2: (2.4506562955760818, 0.11747574164167571, 1)\n"
          ],
          "name": "stdout"
        },
        {
          "output_type": "display_data",
          "data": {
            "text/html": [
              "<div>\n",
              "<style scoped>\n",
              "    .dataframe tbody tr th:only-of-type {\n",
              "        vertical-align: middle;\n",
              "    }\n",
              "\n",
              "    .dataframe tbody tr th {\n",
              "        vertical-align: top;\n",
              "    }\n",
              "\n",
              "    .dataframe thead th {\n",
              "        text-align: right;\n",
              "    }\n",
              "</style>\n",
              "<table border=\"1\" class=\"dataframe\">\n",
              "  <thead>\n",
              "    <tr style=\"text-align: right;\">\n",
              "      <th>starting_ct</th>\n",
              "      <th>ct</th>\n",
              "      <th>tr</th>\n",
              "    </tr>\n",
              "    <tr>\n",
              "      <th>map_winner</th>\n",
              "      <th></th>\n",
              "      <th></th>\n",
              "    </tr>\n",
              "  </thead>\n",
              "  <tbody>\n",
              "    <tr>\n",
              "      <th>lose</th>\n",
              "      <td>2021</td>\n",
              "      <td>2093</td>\n",
              "    </tr>\n",
              "    <tr>\n",
              "      <th>win</th>\n",
              "      <td>2093</td>\n",
              "      <td>2021</td>\n",
              "    </tr>\n",
              "  </tbody>\n",
              "</table>\n",
              "</div>"
            ],
            "text/plain": [
              "starting_ct    ct    tr\n",
              "map_winner             \n",
              "lose         2021  2093\n",
              "win          2093  2021"
            ]
          },
          "metadata": {
            "tags": []
          }
        },
        {
          "output_type": "display_data",
          "data": {
            "text/html": [
              "<div>\n",
              "<style scoped>\n",
              "    .dataframe tbody tr th:only-of-type {\n",
              "        vertical-align: middle;\n",
              "    }\n",
              "\n",
              "    .dataframe tbody tr th {\n",
              "        vertical-align: top;\n",
              "    }\n",
              "\n",
              "    .dataframe thead th {\n",
              "        text-align: right;\n",
              "    }\n",
              "</style>\n",
              "<table border=\"1\" class=\"dataframe\">\n",
              "  <thead>\n",
              "    <tr style=\"text-align: right;\">\n",
              "      <th>starting_ct</th>\n",
              "      <th>ct</th>\n",
              "      <th>tr</th>\n",
              "    </tr>\n",
              "    <tr>\n",
              "      <th>map_winner</th>\n",
              "      <th></th>\n",
              "      <th></th>\n",
              "    </tr>\n",
              "  </thead>\n",
              "  <tbody>\n",
              "    <tr>\n",
              "      <th>lose</th>\n",
              "      <td>49.124939</td>\n",
              "      <td>50.875061</td>\n",
              "    </tr>\n",
              "    <tr>\n",
              "      <th>win</th>\n",
              "      <td>50.875061</td>\n",
              "      <td>49.124939</td>\n",
              "    </tr>\n",
              "  </tbody>\n",
              "</table>\n",
              "</div>"
            ],
            "text/plain": [
              "starting_ct         ct         tr\n",
              "map_winner                       \n",
              "lose         49.124939  50.875061\n",
              "win          50.875061  49.124939"
            ]
          },
          "metadata": {
            "tags": []
          }
        },
        {
          "output_type": "stream",
          "text": [
            "_________________________________________________________\n",
            "Inferno: (15.648363393453574, 7.62785643551e-05, 1)\n"
          ],
          "name": "stdout"
        },
        {
          "output_type": "display_data",
          "data": {
            "text/html": [
              "<div>\n",
              "<style scoped>\n",
              "    .dataframe tbody tr th:only-of-type {\n",
              "        vertical-align: middle;\n",
              "    }\n",
              "\n",
              "    .dataframe tbody tr th {\n",
              "        vertical-align: top;\n",
              "    }\n",
              "\n",
              "    .dataframe thead th {\n",
              "        text-align: right;\n",
              "    }\n",
              "</style>\n",
              "<table border=\"1\" class=\"dataframe\">\n",
              "  <thead>\n",
              "    <tr style=\"text-align: right;\">\n",
              "      <th>starting_ct</th>\n",
              "      <th>ct</th>\n",
              "      <th>tr</th>\n",
              "    </tr>\n",
              "    <tr>\n",
              "      <th>map_winner</th>\n",
              "      <th></th>\n",
              "      <th></th>\n",
              "    </tr>\n",
              "  </thead>\n",
              "  <tbody>\n",
              "    <tr>\n",
              "      <th>lose</th>\n",
              "      <td>3621</td>\n",
              "      <td>3864</td>\n",
              "    </tr>\n",
              "    <tr>\n",
              "      <th>win</th>\n",
              "      <td>3864</td>\n",
              "      <td>3621</td>\n",
              "    </tr>\n",
              "  </tbody>\n",
              "</table>\n",
              "</div>"
            ],
            "text/plain": [
              "starting_ct    ct    tr\n",
              "map_winner             \n",
              "lose         3621  3864\n",
              "win          3864  3621"
            ]
          },
          "metadata": {
            "tags": []
          }
        },
        {
          "output_type": "display_data",
          "data": {
            "text/html": [
              "<div>\n",
              "<style scoped>\n",
              "    .dataframe tbody tr th:only-of-type {\n",
              "        vertical-align: middle;\n",
              "    }\n",
              "\n",
              "    .dataframe tbody tr th {\n",
              "        vertical-align: top;\n",
              "    }\n",
              "\n",
              "    .dataframe thead th {\n",
              "        text-align: right;\n",
              "    }\n",
              "</style>\n",
              "<table border=\"1\" class=\"dataframe\">\n",
              "  <thead>\n",
              "    <tr style=\"text-align: right;\">\n",
              "      <th>starting_ct</th>\n",
              "      <th>ct</th>\n",
              "      <th>tr</th>\n",
              "    </tr>\n",
              "    <tr>\n",
              "      <th>map_winner</th>\n",
              "      <th></th>\n",
              "      <th></th>\n",
              "    </tr>\n",
              "  </thead>\n",
              "  <tbody>\n",
              "    <tr>\n",
              "      <th>lose</th>\n",
              "      <td>48.376754</td>\n",
              "      <td>51.623246</td>\n",
              "    </tr>\n",
              "    <tr>\n",
              "      <th>win</th>\n",
              "      <td>51.623246</td>\n",
              "      <td>48.376754</td>\n",
              "    </tr>\n",
              "  </tbody>\n",
              "</table>\n",
              "</div>"
            ],
            "text/plain": [
              "starting_ct         ct         tr\n",
              "map_winner                       \n",
              "lose         48.376754  51.623246\n",
              "win          51.623246  48.376754"
            ]
          },
          "metadata": {
            "tags": []
          }
        },
        {
          "output_type": "stream",
          "text": [
            "_________________________________________________________\n",
            "Vertigo: (0.3284072249589491, 0.5665984802832496, 1)\n"
          ],
          "name": "stdout"
        },
        {
          "output_type": "display_data",
          "data": {
            "text/html": [
              "<div>\n",
              "<style scoped>\n",
              "    .dataframe tbody tr th:only-of-type {\n",
              "        vertical-align: middle;\n",
              "    }\n",
              "\n",
              "    .dataframe tbody tr th {\n",
              "        vertical-align: top;\n",
              "    }\n",
              "\n",
              "    .dataframe thead th {\n",
              "        text-align: right;\n",
              "    }\n",
              "</style>\n",
              "<table border=\"1\" class=\"dataframe\">\n",
              "  <thead>\n",
              "    <tr style=\"text-align: right;\">\n",
              "      <th>starting_ct</th>\n",
              "      <th>ct</th>\n",
              "      <th>tr</th>\n",
              "    </tr>\n",
              "    <tr>\n",
              "      <th>map_winner</th>\n",
              "      <th></th>\n",
              "      <th></th>\n",
              "    </tr>\n",
              "  </thead>\n",
              "  <tbody>\n",
              "    <tr>\n",
              "      <th>lose</th>\n",
              "      <td>299</td>\n",
              "      <td>310</td>\n",
              "    </tr>\n",
              "    <tr>\n",
              "      <th>win</th>\n",
              "      <td>310</td>\n",
              "      <td>299</td>\n",
              "    </tr>\n",
              "  </tbody>\n",
              "</table>\n",
              "</div>"
            ],
            "text/plain": [
              "starting_ct   ct   tr\n",
              "map_winner           \n",
              "lose         299  310\n",
              "win          310  299"
            ]
          },
          "metadata": {
            "tags": []
          }
        },
        {
          "output_type": "display_data",
          "data": {
            "text/html": [
              "<div>\n",
              "<style scoped>\n",
              "    .dataframe tbody tr th:only-of-type {\n",
              "        vertical-align: middle;\n",
              "    }\n",
              "\n",
              "    .dataframe tbody tr th {\n",
              "        vertical-align: top;\n",
              "    }\n",
              "\n",
              "    .dataframe thead th {\n",
              "        text-align: right;\n",
              "    }\n",
              "</style>\n",
              "<table border=\"1\" class=\"dataframe\">\n",
              "  <thead>\n",
              "    <tr style=\"text-align: right;\">\n",
              "      <th>starting_ct</th>\n",
              "      <th>ct</th>\n",
              "      <th>tr</th>\n",
              "    </tr>\n",
              "    <tr>\n",
              "      <th>map_winner</th>\n",
              "      <th></th>\n",
              "      <th></th>\n",
              "    </tr>\n",
              "  </thead>\n",
              "  <tbody>\n",
              "    <tr>\n",
              "      <th>lose</th>\n",
              "      <td>49.09688</td>\n",
              "      <td>50.90312</td>\n",
              "    </tr>\n",
              "    <tr>\n",
              "      <th>win</th>\n",
              "      <td>50.90312</td>\n",
              "      <td>49.09688</td>\n",
              "    </tr>\n",
              "  </tbody>\n",
              "</table>\n",
              "</div>"
            ],
            "text/plain": [
              "starting_ct        ct        tr\n",
              "map_winner                     \n",
              "lose         49.09688  50.90312\n",
              "win          50.90312  49.09688"
            ]
          },
          "metadata": {
            "tags": []
          }
        },
        {
          "output_type": "stream",
          "text": [
            "_________________________________________________________\n",
            "Overpass: (0.9614222222222222, 0.3268288098731137, 1)\n"
          ],
          "name": "stdout"
        },
        {
          "output_type": "display_data",
          "data": {
            "text/html": [
              "<div>\n",
              "<style scoped>\n",
              "    .dataframe tbody tr th:only-of-type {\n",
              "        vertical-align: middle;\n",
              "    }\n",
              "\n",
              "    .dataframe tbody tr th {\n",
              "        vertical-align: top;\n",
              "    }\n",
              "\n",
              "    .dataframe thead th {\n",
              "        text-align: right;\n",
              "    }\n",
              "</style>\n",
              "<table border=\"1\" class=\"dataframe\">\n",
              "  <thead>\n",
              "    <tr style=\"text-align: right;\">\n",
              "      <th>starting_ct</th>\n",
              "      <th>ct</th>\n",
              "      <th>tr</th>\n",
              "    </tr>\n",
              "    <tr>\n",
              "      <th>map_winner</th>\n",
              "      <th></th>\n",
              "      <th></th>\n",
              "    </tr>\n",
              "  </thead>\n",
              "  <tbody>\n",
              "    <tr>\n",
              "      <th>lose</th>\n",
              "      <td>2839</td>\n",
              "      <td>2786</td>\n",
              "    </tr>\n",
              "    <tr>\n",
              "      <th>win</th>\n",
              "      <td>2786</td>\n",
              "      <td>2839</td>\n",
              "    </tr>\n",
              "  </tbody>\n",
              "</table>\n",
              "</div>"
            ],
            "text/plain": [
              "starting_ct    ct    tr\n",
              "map_winner             \n",
              "lose         2839  2786\n",
              "win          2786  2839"
            ]
          },
          "metadata": {
            "tags": []
          }
        },
        {
          "output_type": "display_data",
          "data": {
            "text/html": [
              "<div>\n",
              "<style scoped>\n",
              "    .dataframe tbody tr th:only-of-type {\n",
              "        vertical-align: middle;\n",
              "    }\n",
              "\n",
              "    .dataframe tbody tr th {\n",
              "        vertical-align: top;\n",
              "    }\n",
              "\n",
              "    .dataframe thead th {\n",
              "        text-align: right;\n",
              "    }\n",
              "</style>\n",
              "<table border=\"1\" class=\"dataframe\">\n",
              "  <thead>\n",
              "    <tr style=\"text-align: right;\">\n",
              "      <th>starting_ct</th>\n",
              "      <th>ct</th>\n",
              "      <th>tr</th>\n",
              "    </tr>\n",
              "    <tr>\n",
              "      <th>map_winner</th>\n",
              "      <th></th>\n",
              "      <th></th>\n",
              "    </tr>\n",
              "  </thead>\n",
              "  <tbody>\n",
              "    <tr>\n",
              "      <th>lose</th>\n",
              "      <td>50.471111</td>\n",
              "      <td>49.528889</td>\n",
              "    </tr>\n",
              "    <tr>\n",
              "      <th>win</th>\n",
              "      <td>49.528889</td>\n",
              "      <td>50.471111</td>\n",
              "    </tr>\n",
              "  </tbody>\n",
              "</table>\n",
              "</div>"
            ],
            "text/plain": [
              "starting_ct         ct         tr\n",
              "map_winner                       \n",
              "lose         50.471111  49.528889\n",
              "win          49.528889  50.471111"
            ]
          },
          "metadata": {
            "tags": []
          }
        },
        {
          "output_type": "stream",
          "text": [
            "_________________________________________________________\n",
            "Nuke: (0.20970042796005706, 0.6470023068475628, 1)\n"
          ],
          "name": "stdout"
        },
        {
          "output_type": "display_data",
          "data": {
            "text/html": [
              "<div>\n",
              "<style scoped>\n",
              "    .dataframe tbody tr th:only-of-type {\n",
              "        vertical-align: middle;\n",
              "    }\n",
              "\n",
              "    .dataframe tbody tr th {\n",
              "        vertical-align: top;\n",
              "    }\n",
              "\n",
              "    .dataframe thead th {\n",
              "        text-align: right;\n",
              "    }\n",
              "</style>\n",
              "<table border=\"1\" class=\"dataframe\">\n",
              "  <thead>\n",
              "    <tr style=\"text-align: right;\">\n",
              "      <th>starting_ct</th>\n",
              "      <th>ct</th>\n",
              "      <th>tr</th>\n",
              "    </tr>\n",
              "    <tr>\n",
              "      <th>map_winner</th>\n",
              "      <th></th>\n",
              "      <th></th>\n",
              "    </tr>\n",
              "  </thead>\n",
              "  <tbody>\n",
              "    <tr>\n",
              "      <th>lose</th>\n",
              "      <td>2092</td>\n",
              "      <td>2114</td>\n",
              "    </tr>\n",
              "    <tr>\n",
              "      <th>win</th>\n",
              "      <td>2114</td>\n",
              "      <td>2092</td>\n",
              "    </tr>\n",
              "  </tbody>\n",
              "</table>\n",
              "</div>"
            ],
            "text/plain": [
              "starting_ct    ct    tr\n",
              "map_winner             \n",
              "lose         2092  2114\n",
              "win          2114  2092"
            ]
          },
          "metadata": {
            "tags": []
          }
        },
        {
          "output_type": "display_data",
          "data": {
            "text/html": [
              "<div>\n",
              "<style scoped>\n",
              "    .dataframe tbody tr th:only-of-type {\n",
              "        vertical-align: middle;\n",
              "    }\n",
              "\n",
              "    .dataframe tbody tr th {\n",
              "        vertical-align: top;\n",
              "    }\n",
              "\n",
              "    .dataframe thead th {\n",
              "        text-align: right;\n",
              "    }\n",
              "</style>\n",
              "<table border=\"1\" class=\"dataframe\">\n",
              "  <thead>\n",
              "    <tr style=\"text-align: right;\">\n",
              "      <th>starting_ct</th>\n",
              "      <th>ct</th>\n",
              "      <th>tr</th>\n",
              "    </tr>\n",
              "    <tr>\n",
              "      <th>map_winner</th>\n",
              "      <th></th>\n",
              "      <th></th>\n",
              "    </tr>\n",
              "  </thead>\n",
              "  <tbody>\n",
              "    <tr>\n",
              "      <th>lose</th>\n",
              "      <td>49.738469</td>\n",
              "      <td>50.261531</td>\n",
              "    </tr>\n",
              "    <tr>\n",
              "      <th>win</th>\n",
              "      <td>50.261531</td>\n",
              "      <td>49.738469</td>\n",
              "    </tr>\n",
              "  </tbody>\n",
              "</table>\n",
              "</div>"
            ],
            "text/plain": [
              "starting_ct         ct         tr\n",
              "map_winner                       \n",
              "lose         49.738469  50.261531\n",
              "win          50.261531  49.738469"
            ]
          },
          "metadata": {
            "tags": []
          }
        },
        {
          "output_type": "stream",
          "text": [
            "_________________________________________________________\n",
            "Mirage: (4.856224365369693, 0.027546556104350566, 1)\n"
          ],
          "name": "stdout"
        },
        {
          "output_type": "display_data",
          "data": {
            "text/html": [
              "<div>\n",
              "<style scoped>\n",
              "    .dataframe tbody tr th:only-of-type {\n",
              "        vertical-align: middle;\n",
              "    }\n",
              "\n",
              "    .dataframe tbody tr th {\n",
              "        vertical-align: top;\n",
              "    }\n",
              "\n",
              "    .dataframe thead th {\n",
              "        text-align: right;\n",
              "    }\n",
              "</style>\n",
              "<table border=\"1\" class=\"dataframe\">\n",
              "  <thead>\n",
              "    <tr style=\"text-align: right;\">\n",
              "      <th>starting_ct</th>\n",
              "      <th>ct</th>\n",
              "      <th>tr</th>\n",
              "    </tr>\n",
              "    <tr>\n",
              "      <th>map_winner</th>\n",
              "      <th></th>\n",
              "      <th></th>\n",
              "    </tr>\n",
              "  </thead>\n",
              "  <tbody>\n",
              "    <tr>\n",
              "      <th>lose</th>\n",
              "      <td>4436</td>\n",
              "      <td>4585</td>\n",
              "    </tr>\n",
              "    <tr>\n",
              "      <th>win</th>\n",
              "      <td>4585</td>\n",
              "      <td>4436</td>\n",
              "    </tr>\n",
              "  </tbody>\n",
              "</table>\n",
              "</div>"
            ],
            "text/plain": [
              "starting_ct    ct    tr\n",
              "map_winner             \n",
              "lose         4436  4585\n",
              "win          4585  4436"
            ]
          },
          "metadata": {
            "tags": []
          }
        },
        {
          "output_type": "display_data",
          "data": {
            "text/html": [
              "<div>\n",
              "<style scoped>\n",
              "    .dataframe tbody tr th:only-of-type {\n",
              "        vertical-align: middle;\n",
              "    }\n",
              "\n",
              "    .dataframe tbody tr th {\n",
              "        vertical-align: top;\n",
              "    }\n",
              "\n",
              "    .dataframe thead th {\n",
              "        text-align: right;\n",
              "    }\n",
              "</style>\n",
              "<table border=\"1\" class=\"dataframe\">\n",
              "  <thead>\n",
              "    <tr style=\"text-align: right;\">\n",
              "      <th>starting_ct</th>\n",
              "      <th>ct</th>\n",
              "      <th>tr</th>\n",
              "    </tr>\n",
              "    <tr>\n",
              "      <th>map_winner</th>\n",
              "      <th></th>\n",
              "      <th></th>\n",
              "    </tr>\n",
              "  </thead>\n",
              "  <tbody>\n",
              "    <tr>\n",
              "      <th>lose</th>\n",
              "      <td>49.174149</td>\n",
              "      <td>50.825851</td>\n",
              "    </tr>\n",
              "    <tr>\n",
              "      <th>win</th>\n",
              "      <td>50.825851</td>\n",
              "      <td>49.174149</td>\n",
              "    </tr>\n",
              "  </tbody>\n",
              "</table>\n",
              "</div>"
            ],
            "text/plain": [
              "starting_ct         ct         tr\n",
              "map_winner                       \n",
              "lose         49.174149  50.825851\n",
              "win          50.825851  49.174149"
            ]
          },
          "metadata": {
            "tags": []
          }
        },
        {
          "output_type": "stream",
          "text": [
            "_________________________________________________________\n",
            "Train: (0.007614986293024673, 0.9304617570300802, 1)\n"
          ],
          "name": "stdout"
        },
        {
          "output_type": "display_data",
          "data": {
            "text/html": [
              "<div>\n",
              "<style scoped>\n",
              "    .dataframe tbody tr th:only-of-type {\n",
              "        vertical-align: middle;\n",
              "    }\n",
              "\n",
              "    .dataframe tbody tr th {\n",
              "        vertical-align: top;\n",
              "    }\n",
              "\n",
              "    .dataframe thead th {\n",
              "        text-align: right;\n",
              "    }\n",
              "</style>\n",
              "<table border=\"1\" class=\"dataframe\">\n",
              "  <thead>\n",
              "    <tr style=\"text-align: right;\">\n",
              "      <th>starting_ct</th>\n",
              "      <th>ct</th>\n",
              "      <th>tr</th>\n",
              "    </tr>\n",
              "    <tr>\n",
              "      <th>map_winner</th>\n",
              "      <th></th>\n",
              "      <th></th>\n",
              "    </tr>\n",
              "  </thead>\n",
              "  <tbody>\n",
              "    <tr>\n",
              "      <th>lose</th>\n",
              "      <td>3286</td>\n",
              "      <td>3280</td>\n",
              "    </tr>\n",
              "    <tr>\n",
              "      <th>win</th>\n",
              "      <td>3280</td>\n",
              "      <td>3286</td>\n",
              "    </tr>\n",
              "  </tbody>\n",
              "</table>\n",
              "</div>"
            ],
            "text/plain": [
              "starting_ct    ct    tr\n",
              "map_winner             \n",
              "lose         3286  3280\n",
              "win          3280  3286"
            ]
          },
          "metadata": {
            "tags": []
          }
        },
        {
          "output_type": "display_data",
          "data": {
            "text/html": [
              "<div>\n",
              "<style scoped>\n",
              "    .dataframe tbody tr th:only-of-type {\n",
              "        vertical-align: middle;\n",
              "    }\n",
              "\n",
              "    .dataframe tbody tr th {\n",
              "        vertical-align: top;\n",
              "    }\n",
              "\n",
              "    .dataframe thead th {\n",
              "        text-align: right;\n",
              "    }\n",
              "</style>\n",
              "<table border=\"1\" class=\"dataframe\">\n",
              "  <thead>\n",
              "    <tr style=\"text-align: right;\">\n",
              "      <th>starting_ct</th>\n",
              "      <th>ct</th>\n",
              "      <th>tr</th>\n",
              "    </tr>\n",
              "    <tr>\n",
              "      <th>map_winner</th>\n",
              "      <th></th>\n",
              "      <th></th>\n",
              "    </tr>\n",
              "  </thead>\n",
              "  <tbody>\n",
              "    <tr>\n",
              "      <th>lose</th>\n",
              "      <td>50.04569</td>\n",
              "      <td>49.95431</td>\n",
              "    </tr>\n",
              "    <tr>\n",
              "      <th>win</th>\n",
              "      <td>49.95431</td>\n",
              "      <td>50.04569</td>\n",
              "    </tr>\n",
              "  </tbody>\n",
              "</table>\n",
              "</div>"
            ],
            "text/plain": [
              "starting_ct        ct        tr\n",
              "map_winner                     \n",
              "lose         50.04569  49.95431\n",
              "win          49.95431  50.04569"
            ]
          },
          "metadata": {
            "tags": []
          }
        },
        {
          "output_type": "stream",
          "text": [
            "_________________________________________________________\n",
            "Cache: (5.05701278994147, 0.02452647801091676, 1)\n"
          ],
          "name": "stdout"
        },
        {
          "output_type": "display_data",
          "data": {
            "text/html": [
              "<div>\n",
              "<style scoped>\n",
              "    .dataframe tbody tr th:only-of-type {\n",
              "        vertical-align: middle;\n",
              "    }\n",
              "\n",
              "    .dataframe tbody tr th {\n",
              "        vertical-align: top;\n",
              "    }\n",
              "\n",
              "    .dataframe thead th {\n",
              "        text-align: right;\n",
              "    }\n",
              "</style>\n",
              "<table border=\"1\" class=\"dataframe\">\n",
              "  <thead>\n",
              "    <tr style=\"text-align: right;\">\n",
              "      <th>starting_ct</th>\n",
              "      <th>ct</th>\n",
              "      <th>tr</th>\n",
              "    </tr>\n",
              "    <tr>\n",
              "      <th>map_winner</th>\n",
              "      <th></th>\n",
              "      <th></th>\n",
              "    </tr>\n",
              "  </thead>\n",
              "  <tbody>\n",
              "    <tr>\n",
              "      <th>lose</th>\n",
              "      <td>2252</td>\n",
              "      <td>2361</td>\n",
              "    </tr>\n",
              "    <tr>\n",
              "      <th>win</th>\n",
              "      <td>2361</td>\n",
              "      <td>2252</td>\n",
              "    </tr>\n",
              "  </tbody>\n",
              "</table>\n",
              "</div>"
            ],
            "text/plain": [
              "starting_ct    ct    tr\n",
              "map_winner             \n",
              "lose         2252  2361\n",
              "win          2361  2252"
            ]
          },
          "metadata": {
            "tags": []
          }
        },
        {
          "output_type": "display_data",
          "data": {
            "text/html": [
              "<div>\n",
              "<style scoped>\n",
              "    .dataframe tbody tr th:only-of-type {\n",
              "        vertical-align: middle;\n",
              "    }\n",
              "\n",
              "    .dataframe tbody tr th {\n",
              "        vertical-align: top;\n",
              "    }\n",
              "\n",
              "    .dataframe thead th {\n",
              "        text-align: right;\n",
              "    }\n",
              "</style>\n",
              "<table border=\"1\" class=\"dataframe\">\n",
              "  <thead>\n",
              "    <tr style=\"text-align: right;\">\n",
              "      <th>starting_ct</th>\n",
              "      <th>ct</th>\n",
              "      <th>tr</th>\n",
              "    </tr>\n",
              "    <tr>\n",
              "      <th>map_winner</th>\n",
              "      <th></th>\n",
              "      <th></th>\n",
              "    </tr>\n",
              "  </thead>\n",
              "  <tbody>\n",
              "    <tr>\n",
              "      <th>lose</th>\n",
              "      <td>48.818556</td>\n",
              "      <td>51.181444</td>\n",
              "    </tr>\n",
              "    <tr>\n",
              "      <th>win</th>\n",
              "      <td>51.181444</td>\n",
              "      <td>48.818556</td>\n",
              "    </tr>\n",
              "  </tbody>\n",
              "</table>\n",
              "</div>"
            ],
            "text/plain": [
              "starting_ct         ct         tr\n",
              "map_winner                       \n",
              "lose         48.818556  51.181444\n",
              "win          51.181444  48.818556"
            ]
          },
          "metadata": {
            "tags": []
          }
        },
        {
          "output_type": "stream",
          "text": [
            "_________________________________________________________\n",
            "Cobblestone: (11.479647025334472, 0.0007036249208245267, 1)\n"
          ],
          "name": "stdout"
        },
        {
          "output_type": "display_data",
          "data": {
            "text/html": [
              "<div>\n",
              "<style scoped>\n",
              "    .dataframe tbody tr th:only-of-type {\n",
              "        vertical-align: middle;\n",
              "    }\n",
              "\n",
              "    .dataframe tbody tr th {\n",
              "        vertical-align: top;\n",
              "    }\n",
              "\n",
              "    .dataframe thead th {\n",
              "        text-align: right;\n",
              "    }\n",
              "</style>\n",
              "<table border=\"1\" class=\"dataframe\">\n",
              "  <thead>\n",
              "    <tr style=\"text-align: right;\">\n",
              "      <th>starting_ct</th>\n",
              "      <th>ct</th>\n",
              "      <th>tr</th>\n",
              "    </tr>\n",
              "    <tr>\n",
              "      <th>map_winner</th>\n",
              "      <th></th>\n",
              "      <th></th>\n",
              "    </tr>\n",
              "  </thead>\n",
              "  <tbody>\n",
              "    <tr>\n",
              "      <th>lose</th>\n",
              "      <td>1685</td>\n",
              "      <td>1828</td>\n",
              "    </tr>\n",
              "    <tr>\n",
              "      <th>win</th>\n",
              "      <td>1828</td>\n",
              "      <td>1685</td>\n",
              "    </tr>\n",
              "  </tbody>\n",
              "</table>\n",
              "</div>"
            ],
            "text/plain": [
              "starting_ct    ct    tr\n",
              "map_winner             \n",
              "lose         1685  1828\n",
              "win          1828  1685"
            ]
          },
          "metadata": {
            "tags": []
          }
        },
        {
          "output_type": "display_data",
          "data": {
            "text/html": [
              "<div>\n",
              "<style scoped>\n",
              "    .dataframe tbody tr th:only-of-type {\n",
              "        vertical-align: middle;\n",
              "    }\n",
              "\n",
              "    .dataframe tbody tr th {\n",
              "        vertical-align: top;\n",
              "    }\n",
              "\n",
              "    .dataframe thead th {\n",
              "        text-align: right;\n",
              "    }\n",
              "</style>\n",
              "<table border=\"1\" class=\"dataframe\">\n",
              "  <thead>\n",
              "    <tr style=\"text-align: right;\">\n",
              "      <th>starting_ct</th>\n",
              "      <th>ct</th>\n",
              "      <th>tr</th>\n",
              "    </tr>\n",
              "    <tr>\n",
              "      <th>map_winner</th>\n",
              "      <th></th>\n",
              "      <th></th>\n",
              "    </tr>\n",
              "  </thead>\n",
              "  <tbody>\n",
              "    <tr>\n",
              "      <th>lose</th>\n",
              "      <td>47.964703</td>\n",
              "      <td>52.035297</td>\n",
              "    </tr>\n",
              "    <tr>\n",
              "      <th>win</th>\n",
              "      <td>52.035297</td>\n",
              "      <td>47.964703</td>\n",
              "    </tr>\n",
              "  </tbody>\n",
              "</table>\n",
              "</div>"
            ],
            "text/plain": [
              "starting_ct         ct         tr\n",
              "map_winner                       \n",
              "lose         47.964703  52.035297\n",
              "win          52.035297  47.964703"
            ]
          },
          "metadata": {
            "tags": []
          }
        },
        {
          "output_type": "stream",
          "text": [
            "_________________________________________________________\n"
          ],
          "name": "stdout"
        }
      ]
    },
    {
      "cell_type": "markdown",
      "metadata": {
        "id": "o7wrtLdiyDVn"
      },
      "source": [
        "The results show us that in the maps **Inferno, Mirage, Cache and Cobblestone** there is a statistically significant difference between starting as CT and starting as TR to have a tendency to win, indicating that it is more recommended to start as a CT to win.\n"
      ]
    },
    {
      "cell_type": "markdown",
      "metadata": {
        "id": "YhT9LzQouK2P"
      },
      "source": [
        "# Analysis of the performance of the teams"
      ]
    },
    {
      "cell_type": "markdown",
      "metadata": {
        "id": "wMh7XQlh0ly3"
      },
      "source": [
        "Here the teams were classified according to a score attributed to them through a calculation that considers the number of wins, average rounds per map and rate of wins in relation to the total of maps played by that team. The table shows the 10 \"best\" teams considering these items, in order.\n"
      ]
    },
    {
      "cell_type": "code",
      "metadata": {
        "colab": {
          "base_uri": "https://localhost:8080/",
          "height": 390
        },
        "id": "bNX6KeMHcj58",
        "outputId": "dc53f55d-b2d2-4bb3-ee4a-b4cef9da95f6"
      },
      "source": [
        "team1 = results[['team_1', 'result_1', 'map_winner']].rename(columns={'team_1': 'team', 'result_1': 'result'})\n",
        "team2 = results[['team_2', 'result_2', 'map_winner']].rename(columns={'team_2': 'team', 'result_2': 'result'})\n",
        "team1['map_winner'] = team1['map_winner'].astype(str)\n",
        "team1['map_winner'] = team1['map_winner'].str.replace('1', 'win').str.replace('2', 'lose')\n",
        "team2['map_winner'] = team2['map_winner'].astype(str)\n",
        "team2['map_winner'] = team2['map_winner'].str.replace('2', 'win').str.replace('1', 'lose')\n",
        "team = pd.concat([team1, team2], ignore_index=True)\n",
        "\n",
        "win = team[team['map_winner']=='win']\n",
        "win = win[['map_winner']].groupby(win['team']).agg('count')\n",
        "\n",
        "countmean = team[['result']].groupby(team['team']).agg(['count', 'mean'])\n",
        "countmean = countmean['result'].sort_values('mean', ascending=False)\n",
        "\n",
        "win2 = countmean.merge(win, on='team' , how='left')\n",
        "win2['map_winner'] = win2['map_winner'].fillna(value=0)\n",
        "win2.rename(columns={'map_winner': 'win'}, inplace=True)\n",
        "win2['win_rate'] = win2['win']/win2['count']\n",
        "win2['win_score'] = win2['win']/win2['win'].max()\n",
        "win2['mean_score'] = win2['mean']/win2['mean'].max()\n",
        "win2['score'] = (win2['mean_score']*0.1)+(win2['win_score']*0.5)+(win2['win_rate']*0.4)\n",
        "\n",
        "win2.sort_values('score', ascending=False).head(10)"
      ],
      "execution_count": null,
      "outputs": [
        {
          "output_type": "execute_result",
          "data": {
            "text/html": [
              "<div>\n",
              "<style scoped>\n",
              "    .dataframe tbody tr th:only-of-type {\n",
              "        vertical-align: middle;\n",
              "    }\n",
              "\n",
              "    .dataframe tbody tr th {\n",
              "        vertical-align: top;\n",
              "    }\n",
              "\n",
              "    .dataframe thead th {\n",
              "        text-align: right;\n",
              "    }\n",
              "</style>\n",
              "<table border=\"1\" class=\"dataframe\">\n",
              "  <thead>\n",
              "    <tr style=\"text-align: right;\">\n",
              "      <th></th>\n",
              "      <th>count</th>\n",
              "      <th>mean</th>\n",
              "      <th>win</th>\n",
              "      <th>win_rate</th>\n",
              "      <th>win_score</th>\n",
              "      <th>mean_score</th>\n",
              "      <th>score</th>\n",
              "    </tr>\n",
              "    <tr>\n",
              "      <th>team</th>\n",
              "      <th></th>\n",
              "      <th></th>\n",
              "      <th></th>\n",
              "      <th></th>\n",
              "      <th></th>\n",
              "      <th></th>\n",
              "      <th></th>\n",
              "    </tr>\n",
              "  </thead>\n",
              "  <tbody>\n",
              "    <tr>\n",
              "      <th>Astralis</th>\n",
              "      <td>872</td>\n",
              "      <td>14.649083</td>\n",
              "      <td>596.0</td>\n",
              "      <td>0.683486</td>\n",
              "      <td>0.993333</td>\n",
              "      <td>0.665867</td>\n",
              "      <td>0.836648</td>\n",
              "    </tr>\n",
              "    <tr>\n",
              "      <th>Liquid</th>\n",
              "      <td>1004</td>\n",
              "      <td>13.939243</td>\n",
              "      <td>600.0</td>\n",
              "      <td>0.597610</td>\n",
              "      <td>1.000000</td>\n",
              "      <td>0.633602</td>\n",
              "      <td>0.802404</td>\n",
              "    </tr>\n",
              "    <tr>\n",
              "      <th>TYLOO</th>\n",
              "      <td>819</td>\n",
              "      <td>14.279609</td>\n",
              "      <td>533.0</td>\n",
              "      <td>0.650794</td>\n",
              "      <td>0.888333</td>\n",
              "      <td>0.649073</td>\n",
              "      <td>0.769391</td>\n",
              "    </tr>\n",
              "    <tr>\n",
              "      <th>mousesports</th>\n",
              "      <td>947</td>\n",
              "      <td>13.810982</td>\n",
              "      <td>545.0</td>\n",
              "      <td>0.575502</td>\n",
              "      <td>0.908333</td>\n",
              "      <td>0.627772</td>\n",
              "      <td>0.747144</td>\n",
              "    </tr>\n",
              "    <tr>\n",
              "      <th>Tricked</th>\n",
              "      <td>970</td>\n",
              "      <td>13.473196</td>\n",
              "      <td>538.0</td>\n",
              "      <td>0.554639</td>\n",
              "      <td>0.896667</td>\n",
              "      <td>0.612418</td>\n",
              "      <td>0.731431</td>\n",
              "    </tr>\n",
              "    <tr>\n",
              "      <th>G2</th>\n",
              "      <td>923</td>\n",
              "      <td>13.758397</td>\n",
              "      <td>519.0</td>\n",
              "      <td>0.562297</td>\n",
              "      <td>0.865000</td>\n",
              "      <td>0.625382</td>\n",
              "      <td>0.719957</td>\n",
              "    </tr>\n",
              "    <tr>\n",
              "      <th>FaZe</th>\n",
              "      <td>892</td>\n",
              "      <td>13.863229</td>\n",
              "      <td>512.0</td>\n",
              "      <td>0.573991</td>\n",
              "      <td>0.853333</td>\n",
              "      <td>0.630147</td>\n",
              "      <td>0.719278</td>\n",
              "    </tr>\n",
              "    <tr>\n",
              "      <th>Cloud9</th>\n",
              "      <td>871</td>\n",
              "      <td>13.715270</td>\n",
              "      <td>507.0</td>\n",
              "      <td>0.582090</td>\n",
              "      <td>0.845000</td>\n",
              "      <td>0.623421</td>\n",
              "      <td>0.717678</td>\n",
              "    </tr>\n",
              "    <tr>\n",
              "      <th>fnatic</th>\n",
              "      <td>878</td>\n",
              "      <td>13.756264</td>\n",
              "      <td>504.0</td>\n",
              "      <td>0.574032</td>\n",
              "      <td>0.840000</td>\n",
              "      <td>0.625285</td>\n",
              "      <td>0.712141</td>\n",
              "    </tr>\n",
              "    <tr>\n",
              "      <th>Natus Vincere</th>\n",
              "      <td>808</td>\n",
              "      <td>13.830446</td>\n",
              "      <td>476.0</td>\n",
              "      <td>0.589109</td>\n",
              "      <td>0.793333</td>\n",
              "      <td>0.628657</td>\n",
              "      <td>0.695176</td>\n",
              "    </tr>\n",
              "  </tbody>\n",
              "</table>\n",
              "</div>"
            ],
            "text/plain": [
              "               count       mean    win  ...  win_score  mean_score     score\n",
              "team                                    ...                                 \n",
              "Astralis         872  14.649083  596.0  ...   0.993333    0.665867  0.836648\n",
              "Liquid          1004  13.939243  600.0  ...   1.000000    0.633602  0.802404\n",
              "TYLOO            819  14.279609  533.0  ...   0.888333    0.649073  0.769391\n",
              "mousesports      947  13.810982  545.0  ...   0.908333    0.627772  0.747144\n",
              "Tricked          970  13.473196  538.0  ...   0.896667    0.612418  0.731431\n",
              "G2               923  13.758397  519.0  ...   0.865000    0.625382  0.719957\n",
              "FaZe             892  13.863229  512.0  ...   0.853333    0.630147  0.719278\n",
              "Cloud9           871  13.715270  507.0  ...   0.845000    0.623421  0.717678\n",
              "fnatic           878  13.756264  504.0  ...   0.840000    0.625285  0.712141\n",
              "Natus Vincere    808  13.830446  476.0  ...   0.793333    0.628657  0.695176\n",
              "\n",
              "[10 rows x 7 columns]"
            ]
          },
          "metadata": {
            "tags": []
          },
          "execution_count": 36
        }
      ]
    },
    {
      "cell_type": "markdown",
      "metadata": {
        "id": "jPotytmqBlDT"
      },
      "source": [
        "The teams on the top of the ranking had their number of victories in championships greatly influencing their positions by analyzing their constant winning participation in professional championships as a favorable point for the ranking, followed by their victory rate and average rounds won per map."
      ]
    },
    {
      "cell_type": "markdown",
      "metadata": {
        "id": "myc6LwUX3VRd"
      },
      "source": [
        "## Analysis of the overall scenario of the teams"
      ]
    },
    {
      "cell_type": "code",
      "metadata": {
        "colab": {
          "base_uri": "https://localhost:8080/",
          "height": 692
        },
        "id": "eodpAaU_4yHr",
        "outputId": "03d7acb4-24fd-4449-ae28-ba994a630831"
      },
      "source": [
        "plt.figure(figsize=[20,10])\n",
        "dist1 = sns.distplot(win2['count'])\n",
        "dist1.set_title(\"DISTRIBUTION OF THE AMOUNT OF MAPS PLAYED BY EACH TEAM\")"
      ],
      "execution_count": null,
      "outputs": [
        {
          "output_type": "stream",
          "text": [
            "/usr/local/lib/python3.7/dist-packages/seaborn/distributions.py:2557: FutureWarning: `distplot` is a deprecated function and will be removed in a future version. Please adapt your code to use either `displot` (a figure-level function with similar flexibility) or `histplot` (an axes-level function for histograms).\n",
            "  warnings.warn(msg, FutureWarning)\n"
          ],
          "name": "stderr"
        },
        {
          "output_type": "execute_result",
          "data": {
            "text/plain": [
              "Text(0.5, 1.0, 'DISTRIBUTION OF THE AMOUNT OF MAPS PLAYED BY EACH TEAM')"
            ]
          },
          "metadata": {
            "tags": []
          },
          "execution_count": 37
        },
        {
          "output_type": "display_data",
          "data": {
            "image/png": "[encoded data removed]",
            "text/plain": [
              "<Figure size 1440x720 with 1 Axes>"
            ]
          },
          "metadata": {
            "tags": [],
            "needs_background": "light"
          }
        }
      ]
    },
    {
      "cell_type": "code",
      "metadata": {
        "colab": {
          "base_uri": "https://localhost:8080/",
          "height": 624
        },
        "id": "7zQsHPaz9jQu",
        "outputId": "d7e43358-06a3-4f23-b525-a31111b573ea"
      },
      "source": [
        "plt.figure(figsize=[20,10])\n",
        "box1 = sns.boxplot(data=win2['count'])\n",
        "box1.set_title(\"DISTRIBUTION OF THE AMOUNT OF MAPS PLAYED BY EACH TEAM\")"
      ],
      "execution_count": null,
      "outputs": [
        {
          "output_type": "execute_result",
          "data": {
            "text/plain": [
              "Text(0.5, 1.0, 'DISTRIBUTION OF THE AMOUNT OF MAPS PLAYED BY EACH TEAM')"
            ]
          },
          "metadata": {
            "tags": []
          },
          "execution_count": 38
        },
        {
          "output_type": "display_data",
          "data": {
            "image/png": "[encoded data removed]",
            "text/plain": [
              "<Figure size 1440x720 with 1 Axes>"
            ]
          },
          "metadata": {
            "tags": [],
            "needs_background": "light"
          }
        }
      ]
    },
    {
      "cell_type": "markdown",
      "metadata": {
        "id": "x31_jnrj-rKQ"
      },
      "source": [
        "Analyzing the distribution of the number of maps played by each team in the dataset, it is concluded that the vast majority of these teams only played less than 100 maps, and those that played more than that, that is, the major teams participating in more championships, present in the majors, are outliers."
      ]
    },
    {
      "cell_type": "code",
      "metadata": {
        "colab": {
          "base_uri": "https://localhost:8080/",
          "height": 692
        },
        "id": "wTr6xN_28NxS",
        "outputId": "f689e1bd-659f-4940-b0ca-f6c1f6ff09cb"
      },
      "source": [
        "plt.figure(figsize=[20,10])\n",
        "dist2 = sns.distplot(win2['mean'])\n",
        "dist2.set_title(\"DISTRIBUTION OF THE MEAN OF ROUNDS WON IN EACH MAP BY EACH TEAM\")"
      ],
      "execution_count": null,
      "outputs": [
        {
          "output_type": "stream",
          "text": [
            "/usr/local/lib/python3.7/dist-packages/seaborn/distributions.py:2557: FutureWarning: `distplot` is a deprecated function and will be removed in a future version. Please adapt your code to use either `displot` (a figure-level function with similar flexibility) or `histplot` (an axes-level function for histograms).\n",
            "  warnings.warn(msg, FutureWarning)\n"
          ],
          "name": "stderr"
        },
        {
          "output_type": "execute_result",
          "data": {
            "text/plain": [
              "Text(0.5, 1.0, 'DISTRIBUTION OF THE MEAN OF ROUNDS WON IN EACH MAP BY EACH TEAM')"
            ]
          },
          "metadata": {
            "tags": []
          },
          "execution_count": 39
        },
        {
          "output_type": "display_data",
          "data": {
            "image/png": "[encoded data removed]",
            "text/plain": [
              "<Figure size 1440x720 with 1 Axes>"
            ]
          },
          "metadata": {
            "tags": [],
            "needs_background": "light"
          }
        }
      ]
    },
    {
      "cell_type": "code",
      "metadata": {
        "colab": {
          "base_uri": "https://localhost:8080/",
          "height": 624
        },
        "id": "IHCkqVUj-FVM",
        "outputId": "79850d05-dbd2-4d45-8d89-7c3184bb3dba"
      },
      "source": [
        "plt.figure(figsize=[20,10])\n",
        "box2 = sns.boxplot(data=win2['mean'])\n",
        "box2.set_title(\"DISTRIBUTION OF THE MEAN OF ROUNDS WON IN EACH MAP BY EACH TEAM\")"
      ],
      "execution_count": null,
      "outputs": [
        {
          "output_type": "execute_result",
          "data": {
            "text/plain": [
              "Text(0.5, 1.0, 'DISTRIBUTION OF THE MEAN OF ROUNDS WON IN EACH MAP BY EACH TEAM')"
            ]
          },
          "metadata": {
            "tags": []
          },
          "execution_count": 40
        },
        {
          "output_type": "display_data",
          "data": {
            "image/png": "[encoded data removed]",
            "text/plain": [
              "<Figure size 1440x720 with 1 Axes>"
            ]
          },
          "metadata": {
            "tags": [],
            "needs_background": "light"
          }
        }
      ]
    },
    {
      "cell_type": "markdown",
      "metadata": {
        "id": "A1vCM-1a_mp4"
      },
      "source": [
        "As expected, when analyzing the average rounds per map for each team, the standard is to maintain an average between 10 and 14 rounds."
      ]
    },
    {
      "cell_type": "code",
      "metadata": {
        "colab": {
          "base_uri": "https://localhost:8080/",
          "height": 693
        },
        "id": "hHmBcYqT2wAt",
        "outputId": "2f342999-e894-45a6-accf-3f1cef3fbb8c"
      },
      "source": [
        "plt.figure(figsize=[20,10])\n",
        "dist3 = sns.distplot(win2['win_rate'])\n",
        "dist3.set_title(\"DISTRIBUTION OF THE WIN RATE OF MAPS PLAYED BY EACH TEAM\")"
      ],
      "execution_count": null,
      "outputs": [
        {
          "output_type": "stream",
          "text": [
            "/usr/local/lib/python3.7/dist-packages/seaborn/distributions.py:2557: FutureWarning: `distplot` is a deprecated function and will be removed in a future version. Please adapt your code to use either `displot` (a figure-level function with similar flexibility) or `histplot` (an axes-level function for histograms).\n",
            "  warnings.warn(msg, FutureWarning)\n"
          ],
          "name": "stderr"
        },
        {
          "output_type": "execute_result",
          "data": {
            "text/plain": [
              "Text(0.5, 1.0, 'DISTRIBUTION OF THE WIN RATE OF MAPS PLAYED BY EACH TEAM')"
            ]
          },
          "metadata": {
            "tags": []
          },
          "execution_count": 41
        },
        {
          "output_type": "display_data",
          "data": {
            "image/png": "[encoded data removed]",
            "text/plain": [
              "<Figure size 1440x720 with 1 Axes>"
            ]
          },
          "metadata": {
            "tags": [],
            "needs_background": "light"
          }
        }
      ]
    },
    {
      "cell_type": "code",
      "metadata": {
        "colab": {
          "base_uri": "https://localhost:8080/",
          "height": 624
        },
        "id": "PlZgHUiQ-OXh",
        "outputId": "4a419340-71bc-447a-f492-08cd36cc6f69"
      },
      "source": [
        "plt.figure(figsize=[20,10])\n",
        "box3 = sns.boxplot(data=win2['win_rate'])\n",
        "box3.set_title(\"DISTRIBUTION OF THE WIN RATE OF MAPS PLAYED BY EACH TEAM\")"
      ],
      "execution_count": null,
      "outputs": [
        {
          "output_type": "execute_result",
          "data": {
            "text/plain": [
              "Text(0.5, 1.0, 'DISTRIBUTION OF THE WIN RATE OF MAPS PLAYED BY EACH TEAM')"
            ]
          },
          "metadata": {
            "tags": []
          },
          "execution_count": 42
        },
        {
          "output_type": "display_data",
          "data": {
            "image/png": "[encoded data removed]",
            "text/plain": [
              "<Figure size 1440x720 with 1 Axes>"
            ]
          },
          "metadata": {
            "tags": [],
            "needs_background": "light"
          }
        }
      ]
    },
    {
      "cell_type": "markdown",
      "metadata": {
        "id": "ySY3vhed_9hV"
      },
      "source": [
        "There is a considerable number of teams with a win rate of 0 or 1 (0% or 100%), due to the teams that have played only once or only a few times, which, as previously seen, represent a large number of teams, reaching a consistency of 100% of the results in victory or defeat. Disregarding these teams, the vast majority keeps the win rate between 15% and 50%."
      ]
    }
  ]
}
